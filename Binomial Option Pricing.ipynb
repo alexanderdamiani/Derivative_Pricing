{
 "cells": [
  {
   "cell_type": "markdown",
   "metadata": {},
   "source": [
    "Binomial option pricing model is a risk-neutral model used to value path-dependent options such as **American** options.\n",
    "\n",
    "https://xplaind.com/552187/binomial-options-pricing-model"
   ]
  },
  {
   "cell_type": "code",
   "execution_count": 14,
   "metadata": {
    "ExecuteTime": {
     "end_time": "2019-09-03T17:15:36.444165Z",
     "start_time": "2019-09-03T17:15:33.243982Z"
    }
   },
   "outputs": [],
   "source": [
    "import pandas as pd\n",
    "import numpy as np\n",
    "\n",
    "import matplotlib.pyplot as plt\n",
    "import seaborn as sns\n",
    "\n",
    "sns.set_style('darkgrid')\n",
    "%matplotlib inline"
   ]
  },
  {
   "cell_type": "code",
   "execution_count": 15,
   "metadata": {
    "ExecuteTime": {
     "end_time": "2019-09-03T17:15:36.490168Z",
     "start_time": "2019-09-03T17:15:36.446165Z"
    }
   },
   "outputs": [],
   "source": [
    "def binom_tree_call(N, T, S0, sigma, r, K):\n",
    "    dt = T/N\n",
    "    \n",
    "    # factors you expect stock price to increase and decrease by\n",
    "    u = np.exp(sigma * np.sqrt(dt))\n",
    "    d = 1/u\n",
    "    \n",
    "    # probability of an up move\n",
    "    p = (np.exp(r * dt) - d) / (u-d)\n",
    "    \n",
    "    # price tree\n",
    "    price_tree = np.zeros([N+1, N+1])\n",
    "    \n",
    "    for i in range(N+1):\n",
    "        for j in range(i+1):\n",
    "            price_tree[j,i] = S0 * (d**j) * (u**(i-j))\n",
    "            \n",
    "    # option value t = N\n",
    "    option = np.zeros([N+1, N+1])\n",
    "    option[:, N] = np.maximum(np.zeros(N+1), price_tree[:, N]-K)\n",
    "    \n",
    "    # calculate option price at t=0\n",
    "    for i in range(N-1, -1, -1):\n",
    "        for j in range(i+1):\n",
    "            option[j, i] = np.exp(-r*dt) * (p*option[j, i+1]+(1-p)*option[j+1, i+1])\n",
    "            \n",
    "#     print(price_tree)\n",
    "    \n",
    "    return option[0][0]"
   ]
  },
  {
   "cell_type": "code",
   "execution_count": 16,
   "metadata": {
    "ExecuteTime": {
     "end_time": "2019-09-03T17:15:36.565172Z",
     "start_time": "2019-09-03T17:15:36.492168Z"
    }
   },
   "outputs": [
    {
     "name": "stdout",
     "output_type": "stream",
     "text": [
      "Option value = 6.783564165691306\n"
     ]
    }
   ],
   "source": [
    "option_val = binom_tree_call(50, 1, 100, 0.1, 0.05, 100)\n",
    "print(f'Option value = {option_val}')"
   ]
  },
  {
   "cell_type": "code",
   "execution_count": 25,
   "metadata": {
    "ExecuteTime": {
     "end_time": "2019-09-03T17:17:07.254359Z",
     "start_time": "2019-09-03T17:17:00.469971Z"
    }
   },
   "outputs": [],
   "source": [
    "end = 250\n",
    "call_vals = [binom_tree_call(num_steps, 1, 100, 0.1, 0.05, 100) for num_steps in range(2, end)]"
   ]
  },
  {
   "cell_type": "code",
   "execution_count": 28,
   "metadata": {
    "ExecuteTime": {
     "end_time": "2019-09-03T17:17:36.321022Z",
     "start_time": "2019-09-03T17:17:36.076008Z"
    }
   },
   "outputs": [
    {
     "data": {
      "text/plain": [
       "Text(0.5, 1.0, 'Binomial Tree - Call Values')"
      ]
     },
     "execution_count": 28,
     "metadata": {},
     "output_type": "execute_result"
    },
    {
     "data": {
      "image/png": "[encoded data removed]",
      "text/plain": [
       "<Figure size 432x288 with 1 Axes>"
      ]
     },
     "metadata": {
      "needs_background": "light"
     },
     "output_type": "display_data"
    }
   ],
   "source": [
    "plt.plot(range(2,end), call_vals, color='b')\n",
    "plt.plot(range(2,end), [6.8]*(end-2), color='r', linestyle='dashed')\n",
    "plt.xlabel('# Steps')\n",
    "plt.title('Binomial Tree - Call Values')"
   ]
  },
  {
   "cell_type": "code",
   "execution_count": null,
   "metadata": {},
   "outputs": [],
   "source": []
  }
 ],
 "metadata": {
  "kernelspec": {
   "display_name": "Python 3",
   "language": "python",
   "name": "python3"
  },
  "language_info": {
   "codemirror_mode": {
    "name": "ipython",
    "version": 3
   },
   "file_extension": ".py",
   "mimetype": "text/x-python",
   "name": "python",
   "nbconvert_exporter": "python",
   "pygments_lexer": "ipython3",
   "version": "3.7.3"
  }
 },
 "nbformat": 4,
 "nbformat_minor": 2
}
