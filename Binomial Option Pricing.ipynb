{
 "cells": [
  {
   "cell_type": "markdown",
   "metadata": {},
   "source": [
    "Binomial option pricing model is a risk-neutral model used to value path-dependent options such as **American** options.\n",
    "\n",
    "https://xplaind.com/552187/binomial-options-pricing-model"
   ]
  },
  {
   "cell_type": "code",
   "execution_count": 18,
   "metadata": {
    "collapsed": true
   },
   "outputs": [],
   "source": [
    "import pandas as pd\n",
    "import numpy as np"
   ]
  },
  {
   "cell_type": "code",
   "execution_count": 19,
   "metadata": {
    "collapsed": true
   },
   "outputs": [],
   "source": [
    "def binom_tree_call(N, T, S0, sigma, r, K):\n",
    "    dt = T/N\n",
    "    \n",
    "    # factors you expect stock price to increase and decrease by\n",
    "    u = np.exp(sigma * np.sqrt(dt))\n",
    "    d = 1/u\n",
    "    \n",
    "    # probability of an up move\n",
    "    p = (np.exp(r * dt) - d) / (u-d)\n",
    "    \n",
    "    # price tree\n",
    "    price_tree = np.zeros([N+1, N+1])\n",
    "    \n",
    "    for i in range(N+1):\n",
    "        for j in range(i+1):\n",
    "            price_tree[j,i] = S0 * (d**j) * (u**(i-j))\n",
    "            \n",
    "    # option value t = N\n",
    "    option = np.zeros([N+1, N+1])\n",
    "    option[:, N] = np.maximum(np.zeros(N+1), price_tree[:, N]-K)\n",
    "    \n",
    "    # calculate option price at t=0\n",
    "    for i in range(N-1, -1, -1):\n",
    "        for j in range(i+1):\n",
    "            option[j, i] = np.exp(-r*dt) * (p*option[j, i+1]+(1-p)*option[j+1, i+1])\n",
    "            \n",
    "#     print(price_tree)\n",
    "    \n",
    "    return option[0][0]"
   ]
  },
  {
   "cell_type": "code",
   "execution_count": 21,
   "metadata": {},
   "outputs": [
    {
     "data": {
      "text/plain": [
       "6.7835641656913062"
      ]
     },
     "execution_count": 21,
     "metadata": {},
     "output_type": "execute_result"
    }
   ],
   "source": [
    "binom_tree_call(50, 1, 100, 0.1, 0.05, 100)"
   ]
  },
  {
   "cell_type": "code",
   "execution_count": null,
   "metadata": {
    "collapsed": true
   },
   "outputs": [],
   "source": []
  }
 ],
 "metadata": {
  "kernelspec": {
   "display_name": "Python 3",
   "language": "python",
   "name": "python3"
  },
  "language_info": {
   "codemirror_mode": {
    "name": "ipython",
    "version": 3
   },
   "file_extension": ".py",
   "mimetype": "text/x-python",
   "name": "python",
   "nbconvert_exporter": "python",
   "pygments_lexer": "ipython3",
   "version": "3.6.3"
  }
 },
 "nbformat": 4,
 "nbformat_minor": 2
}
