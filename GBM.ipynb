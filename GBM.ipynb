{
 "cells": [
  {
   "cell_type": "markdown",
   "metadata": {},
   "source": [
    "$r_{n} = log(\\frac{S_{n}}{S_{n-1}})$\n",
    "\n",
    "$historical\\ volatility: \\hat{\\sigma} = \\sqrt{(\\frac{1}{N-1})\\sum_{n=1}^{N}(r_{n}-\\hat{\\mu})^{2}}$ \n",
    "\n",
    "$instantaneous\\ volatility: dS_{t} = rS_{t}dt+\\sigma S_{t}dZ_{t}$\n",
    "\n",
    "$implied\\ volatility: C_{0} = C^{BSM}(S_{0}, K, T, r, \\sigma^{imp})$\n",
    "\n",
    "$realized\\ volatility: RV_{t} = \\sqrt{\\sum_{i=1}^{N}r_{t}^{2}}$"
   ]
  },
  {
   "cell_type": "markdown",
   "metadata": {},
   "source": [
    "Converting geometric brownian motion of BSM to discrete version:\n",
    "\n",
    "$S_{t} = S_{t-\\Delta t}e^{(r-(1/2)\\sigma^{2})\\Delta t+\\sigma\\sqrt{\\Delta t}z_{t}}$\n",
    "\n",
    "t = ${\\Delta t, 2\\Delta t, ... T}$\n",
    "\n",
    "$z_{t}$ = standard normally distributed random variables"
   ]
  },
  {
   "cell_type": "code",
   "execution_count": 184,
   "metadata": {
    "ExecuteTime": {
     "end_time": "2019-08-29T16:30:54.570261Z",
     "start_time": "2019-08-29T16:30:54.554661Z"
    }
   },
   "outputs": [],
   "source": [
    "import numpy as np\n",
    "import pandas as pd\n",
    "import math\n",
    "import matplotlib.pyplot as plt\n",
    "import seaborn as sns\n",
    "import statsmodels.api as sm\n",
    "import scipy.stats as scs\n",
    "\n",
    "sns.set_style('darkgrid')\n",
    "%matplotlib inline"
   ]
  },
  {
   "cell_type": "code",
   "execution_count": 117,
   "metadata": {
    "ExecuteTime": {
     "end_time": "2019-08-29T15:32:48.892623Z",
     "start_time": "2019-08-29T15:32:48.877023Z"
    }
   },
   "outputs": [],
   "source": [
    "def generate_asset_price(S, r, sigma, dt, rand):\n",
    "    return S * np.exp((r - sigma ** 2 / 2) * dt \\\n",
    "                + sigma * rand * math.sqrt(dt))"
   ]
  },
  {
   "cell_type": "code",
   "execution_count": 169,
   "metadata": {
    "ExecuteTime": {
     "end_time": "2019-08-29T16:24:01.255527Z",
     "start_time": "2019-08-29T16:24:01.239927Z"
    }
   },
   "outputs": [],
   "source": [
    "def simulate_gbm(S0, T, r, sigma, date_range, step_mult=252):\n",
    "    '''\n",
    "    Params\n",
    "    -------------\n",
    "    S0 = initial stock price\n",
    "    T = # of years (can be fractional)\n",
    "    r = r_f\n",
    "    sigma = instantaneous vol\n",
    "    step_mult = time-step mult for # of years (assuming daily calculations)\n",
    "    '''\n",
    "    np.random.seed(0)\n",
    "    dt = 1.0 / step_mult\n",
    "    df = np.exp(-r * dt) # discount factor\n",
    "    \n",
    "    M = len(date_range)\n",
    "    I = 1  # index level paths\n",
    "    \n",
    "    print(M)\n",
    "    \n",
    "    rand_arr = np.random.standard_normal((M, I))\n",
    "    \n",
    "    S = np.zeros(M)\n",
    "    S[0] = S0\n",
    "    \n",
    "    for t in range(1, M):\n",
    "        S[t] = generate_asset_price(S[t-1], r, sigma, dt, rand_arr[t])\n",
    "    \n",
    "    gbm = pd.DataFrame(S, columns=['prices'])\n",
    "    gbm['returns'] = np.log(gbm['prices'].pct_change(1) + 1)\n",
    "    \n",
    "    # realized volatility\n",
    "    gbm['real_var'] = step_mult * np.cumsum(gbm['returns'] ** 2) / np.arange(len(gbm))\n",
    "    gbm['real_vol'] = np.sqrt(gbm['real_var'])\n",
    "    \n",
    "    gbm.index = date_range\n",
    "    gbm.dropna(inplace=True)\n",
    "    \n",
    "    return gbm"
   ]
  },
  {
   "cell_type": "code",
   "execution_count": 188,
   "metadata": {
    "ExecuteTime": {
     "end_time": "2019-08-29T16:31:18.355704Z",
     "start_time": "2019-08-29T16:31:18.324504Z"
    }
   },
   "outputs": [],
   "source": [
    "def print_statistics(data):\n",
    "    print (\"RETURN SAMPLE STATISTICS\")\n",
    "    print (\"---------------------------------------------\")\n",
    "    print (\"Mean of Daily  Log Returns %9.6f\" % np.mean(data['returns']))\n",
    "    print (\"Std  of Daily  Log Returns %9.6f\" % np.std(data['returns']))\n",
    "    print (\"Mean of Annua. Log Returns %9.6f\" % (np.mean(data['returns']) * 252))\n",
    "    print (\"Std  of Annua. Log Returns %9.6f\" % \\\n",
    "                (np.std(data['returns']) * math.sqrt(252)))\n",
    "    print (\"---------------------------------------------\")\n",
    "    print (\"Skew of Sample Log Returns %9.6f\" % scs.skew(data['returns']))\n",
    "    print (\"Skew Normal Test p-value   %9.6f\" % scs.skewtest(data['returns'])[1])\n",
    "    print (\"---------------------------------------------\")\n",
    "    print (\"Kurt of Sample Log Returns %9.6f\" % scs.kurtosis(data['returns']))\n",
    "    print (\"Kurt Normal Test p-value   %9.6f\" % \\\n",
    "                scs.kurtosistest(data['returns'])[1])\n",
    "    print (\"---------------------------------------------\")\n",
    "    print (\"Normal Test p-value        %9.6f\" % \\\n",
    "                scs.normaltest(data['returns'])[1])\n",
    "    print (\"---------------------------------------------\")\n",
    "    print (\"Realized Volatility        %9.6f\" % data['real_vol'].iloc[-1])\n",
    "    print (\"Realized Variance          %9.6f\" % data['real_var'].iloc[-1])"
   ]
  },
  {
   "cell_type": "code",
   "execution_count": 189,
   "metadata": {
    "ExecuteTime": {
     "end_time": "2019-08-29T16:31:18.948505Z",
     "start_time": "2019-08-29T16:31:18.886105Z"
    },
    "scrolled": true
   },
   "outputs": [
    {
     "name": "stdout",
     "output_type": "stream",
     "text": [
      "3653\n"
     ]
    },
    {
     "data": {
      "text/html": [
       "<div>\n",
       "<style scoped>\n",
       "    .dataframe tbody tr th:only-of-type {\n",
       "        vertical-align: middle;\n",
       "    }\n",
       "\n",
       "    .dataframe tbody tr th {\n",
       "        vertical-align: top;\n",
       "    }\n",
       "\n",
       "    .dataframe thead th {\n",
       "        text-align: right;\n",
       "    }\n",
       "</style>\n",
       "<table border=\"1\" class=\"dataframe\">\n",
       "  <thead>\n",
       "    <tr style=\"text-align: right;\">\n",
       "      <th></th>\n",
       "      <th>prices</th>\n",
       "      <th>returns</th>\n",
       "      <th>real_var</th>\n",
       "      <th>real_vol</th>\n",
       "    </tr>\n",
       "  </thead>\n",
       "  <tbody>\n",
       "    <tr>\n",
       "      <td>2006-01-02</td>\n",
       "      <td>100.517389</td>\n",
       "      <td>0.005161</td>\n",
       "      <td>0.006711</td>\n",
       "      <td>0.081921</td>\n",
       "    </tr>\n",
       "    <tr>\n",
       "      <td>2006-01-03</td>\n",
       "      <td>101.776652</td>\n",
       "      <td>0.012450</td>\n",
       "      <td>0.022886</td>\n",
       "      <td>0.151281</td>\n",
       "    </tr>\n",
       "    <tr>\n",
       "      <td>2006-01-04</td>\n",
       "      <td>104.703482</td>\n",
       "      <td>0.028352</td>\n",
       "      <td>0.082778</td>\n",
       "      <td>0.287711</td>\n",
       "    </tr>\n",
       "    <tr>\n",
       "      <td>2006-01-05</td>\n",
       "      <td>107.209026</td>\n",
       "      <td>0.023648</td>\n",
       "      <td>0.097315</td>\n",
       "      <td>0.311953</td>\n",
       "    </tr>\n",
       "    <tr>\n",
       "      <td>2006-01-06</td>\n",
       "      <td>105.909711</td>\n",
       "      <td>-0.012193</td>\n",
       "      <td>0.085345</td>\n",
       "      <td>0.292139</td>\n",
       "    </tr>\n",
       "  </tbody>\n",
       "</table>\n",
       "</div>"
      ],
      "text/plain": [
       "                prices   returns  real_var  real_vol\n",
       "2006-01-02  100.517389  0.005161  0.006711  0.081921\n",
       "2006-01-03  101.776652  0.012450  0.022886  0.151281\n",
       "2006-01-04  104.703482  0.028352  0.082778  0.287711\n",
       "2006-01-05  107.209026  0.023648  0.097315  0.311953\n",
       "2006-01-06  105.909711 -0.012193  0.085345  0.292139"
      ]
     },
     "execution_count": 189,
     "metadata": {},
     "output_type": "execute_result"
    }
   ],
   "source": [
    "S0 = 100.0  # initial index level\n",
    "T = 10.0  # time horizon\n",
    "r = 0.05  # risk-less short rate\n",
    "sigma = 0.2  # instantaneous volatility\n",
    "date_range = pd.date_range('2006-01-01', '2016-01-01')\n",
    "\n",
    "df = simulate_gbm(S0, T, r, sigma, date_range)\n",
    "df.head()"
   ]
  },
  {
   "cell_type": "code",
   "execution_count": 190,
   "metadata": {
    "ExecuteTime": {
     "end_time": "2019-08-29T16:31:19.385306Z",
     "start_time": "2019-08-29T16:31:19.354106Z"
    }
   },
   "outputs": [
    {
     "name": "stdout",
     "output_type": "stream",
     "text": [
      "RETURN SAMPLE STATISTICS\n",
      "---------------------------------------------\n",
      "Mean of Daily  Log Returns -0.000182\n",
      "Std  of Daily  Log Returns  0.012334\n",
      "Mean of Annua. Log Returns -0.045965\n",
      "Std  of Annua. Log Returns  0.195790\n",
      "---------------------------------------------\n",
      "Skew of Sample Log Returns  0.040396\n",
      "Skew Normal Test p-value    0.318157\n",
      "---------------------------------------------\n",
      "Kurt of Sample Log Returns -0.052689\n",
      "Kurt Normal Test p-value    0.542585\n",
      "---------------------------------------------\n",
      "Normal Test p-value         0.504777\n",
      "---------------------------------------------\n",
      "Realized Volatility         0.195811\n",
      "Realized Variance           0.038342\n"
     ]
    }
   ],
   "source": [
    "print_statistics(df)"
   ]
  },
  {
   "cell_type": "markdown",
   "metadata": {},
   "source": [
    "High p-values for skew, kurtosis, and the joint-test all indiciate normally distributed data."
   ]
  },
  {
   "cell_type": "code",
   "execution_count": 192,
   "metadata": {
    "ExecuteTime": {
     "end_time": "2019-08-29T16:32:49.350465Z",
     "start_time": "2019-08-29T16:32:46.494660Z"
    },
    "scrolled": false
   },
   "outputs": [
    {
     "data": {
      "image/png": "[encoded data removed]",
      "text/plain": [
       "<Figure size 576x576 with 6 Axes>"
      ]
     },
     "metadata": {
      "needs_background": "light"
     },
     "output_type": "display_data"
    }
   ],
   "source": [
    "fig, axes = plt.subplots(nrows=3, ncols=2, figsize=(8,8))\n",
    "\n",
    "\n",
    "df['prices'].plot(title='Prices', ax=axes[0,0])\n",
    "df['returns'].plot(title='Log Returns', ax=axes[0,1])\n",
    "\n",
    "bins = np.arange(-0.05,0.05,0.01)\n",
    "ax = sns.distplot(df['returns'], bins=bins, ax=axes[1,0])\n",
    "sm.qqplot(df['returns'], line='s', ax=axes[1,1])\n",
    "\n",
    "df['real_vol'].plot(title='Real. Vol.', ax=axes[2,0])\n",
    "\n",
    "plt.tight_layout()"
   ]
  },
  {
   "cell_type": "markdown",
   "metadata": {},
   "source": [
    "Realized volatility converges to instantaneous volatility."
   ]
  },
  {
   "cell_type": "code",
   "execution_count": null,
   "metadata": {},
   "outputs": [],
   "source": []
  }
 ],
 "metadata": {
  "kernelspec": {
   "display_name": "Python 3",
   "language": "python",
   "name": "python3"
  },
  "language_info": {
   "codemirror_mode": {
    "name": "ipython",
    "version": 3
   },
   "file_extension": ".py",
   "mimetype": "text/x-python",
   "name": "python",
   "nbconvert_exporter": "python",
   "pygments_lexer": "ipython3",
   "version": "3.7.3"
  }
 },
 "nbformat": 4,
 "nbformat_minor": 2
}
